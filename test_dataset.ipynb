{
 "cells": [
  {
   "cell_type": "code",
   "execution_count": 3,
   "id": "bc68cf70",
   "metadata": {},
   "outputs": [],
   "source": [
    "import pickle\n",
    "import json ,gzip\n",
    "path = './data/datasets_bedavin/single_source/mp3d/v1/train/content/1LXtFkjw3qL.json.gz'"
   ]
  },
  {
   "cell_type": "code",
   "execution_count": 4,
   "id": "39193e4b",
   "metadata": {},
   "outputs": [],
   "source": [
    "with gzip.open(path , 'rt') as f:\n",
    "    data = json.loads(f.read())"
   ]
  },
  {
   "cell_type": "code",
   "execution_count": 6,
   "id": "5bd319c2",
   "metadata": {},
   "outputs": [
    {
     "data": {
      "text/plain": [
       "1836"
      ]
     },
     "execution_count": 6,
     "metadata": {},
     "output_type": "execute_result"
    }
   ],
   "source": [
    "len(data['episodes'])"
   ]
  },
  {
   "cell_type": "code",
   "execution_count": 10,
   "id": "34d462d1",
   "metadata": {},
   "outputs": [
    {
     "data": {
      "text/plain": [
       "{'episode_id': '260578',\n",
       " 'scene_id': '1LXtFkjw3qL/1LXtFkjw3qL.glb',\n",
       " 'start_position': [1.26243, -2.51307, 0.43675],\n",
       " 'start_rotation': [0.0, 0.7071067811865476, 0.0, -0.7071067811865475],\n",
       " 'info': {'geodesic_distance': 4.0, 'num_action': 38},\n",
       " 'goals': [{'position': [-1.73757, -2.50959, 1.43675],\n",
       "   'radius': None,\n",
       "   'object_id': '466',\n",
       "   'object_name': None,\n",
       "   'object_category': 'picture',\n",
       "   'room_id': '25',\n",
       "   'room_name': 'hallway',\n",
       "   'view_points': [[-1.73757, -2.50959, 2.43675],\n",
       "    [-1.73757, -2.50959, 0.43675],\n",
       "    [-1.73757, -2.50959, 1.43675],\n",
       "    [-0.73757, -2.51307, 0.43675],\n",
       "    [0.26243, -2.51307, 1.43675]]}],\n",
       " 'start_room': None,\n",
       " 'shortest_paths': [[2,\n",
       "   2,\n",
       "   2,\n",
       "   2,\n",
       "   2,\n",
       "   2,\n",
       "   2,\n",
       "   2,\n",
       "   2,\n",
       "   2,\n",
       "   2,\n",
       "   2,\n",
       "   2,\n",
       "   2,\n",
       "   2,\n",
       "   2,\n",
       "   2,\n",
       "   1,\n",
       "   2,\n",
       "   1,\n",
       "   1,\n",
       "   1,\n",
       "   1,\n",
       "   1,\n",
       "   1,\n",
       "   2,\n",
       "   1,\n",
       "   2,\n",
       "   1,\n",
       "   2,\n",
       "   2,\n",
       "   1,\n",
       "   2,\n",
       "   1,\n",
       "   1,\n",
       "   2,\n",
       "   1,\n",
       "   1]],\n",
       " 'object_category': 'picture',\n",
       " 'sound_id': 'train/picture/91486.wav',\n",
       " 'offset': '8',\n",
       " 'duration': '124',\n",
       " 'interval_mean': 30,\n",
       " 'interval_upper_limit': 60,\n",
       " 'interval_lower_limit': 10}"
      ]
     },
     "execution_count": 10,
     "metadata": {},
     "output_type": "execute_result"
    }
   ],
   "source": [
    "data['episodes'][0]"
   ]
  },
  {
   "cell_type": "code",
   "execution_count": null,
   "id": "206bb230",
   "metadata": {},
   "outputs": [],
   "source": []
  }
 ],
 "metadata": {
  "kernelspec": {
   "display_name": "ss",
   "language": "python",
   "name": "python3"
  },
  "language_info": {
   "codemirror_mode": {
    "name": "ipython",
    "version": 3
   },
   "file_extension": ".py",
   "mimetype": "text/x-python",
   "name": "python",
   "nbconvert_exporter": "python",
   "pygments_lexer": "ipython3",
   "version": "3.9.18"
  }
 },
 "nbformat": 4,
 "nbformat_minor": 5
}
