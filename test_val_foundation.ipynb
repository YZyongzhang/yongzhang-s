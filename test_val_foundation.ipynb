{
 "cells": [
  {
   "cell_type": "code",
   "execution_count": 1,
   "id": "2edfac7f",
   "metadata": {},
   "outputs": [
    {
     "data": {
      "text/plain": [
       "AnglePredictor(\n",
       "  (audio_encoder): AudioEncoder(\n",
       "    (conv2d_1): Conv2d(2, 128, kernel_size=(16, 16), stride=(16, 16), padding=(1, 1))\n",
       "  )\n",
       "  (fc1): Sequential(\n",
       "    (0): Flatten(start_dim=1, end_dim=-1)\n",
       "    (1): Linear(in_features=2048, out_features=128, bias=True)\n",
       "    (2): ReLU()\n",
       "  )\n",
       "  (dropout): Dropout(p=0.2, inplace=False)\n",
       "  (fc2): Sequential(\n",
       "    (0): Linear(in_features=128, out_features=64, bias=True)\n",
       "    (1): ReLU()\n",
       "    (2): Linear(in_features=64, out_features=8, bias=True)\n",
       "  )\n",
       ")"
      ]
     },
     "execution_count": 1,
     "metadata": {},
     "output_type": "execute_result"
    }
   ],
   "source": [
    "import torch\n",
    "import numpy\n",
    "ckpt = './experiment/train/v3/audio_3/model_epoch_50.pth'\n",
    "from train import Network\n",
    "from train.network.foundation_model import Network , AnglePredictor\n",
    "foundation_model = AnglePredictor().to(torch.device('cuda'))\n",
    "foundation_model.load_state_dict(torch.load(ckpt))\n",
    "foundation_model.eval()"
   ]
  },
  {
   "cell_type": "code",
   "execution_count": 5,
   "id": "df6c9e3e",
   "metadata": {},
   "outputs": [
    {
     "name": "stdout",
     "output_type": "stream",
     "text": [
      "audio_encoder.conv2d_1.weight\n",
      "audio_encoder.conv2d_1.bias\n",
      "fc1.1.weight\n",
      "fc1.1.bias\n",
      "fc2.0.weight\n",
      "fc2.0.bias\n",
      "fc2.2.weight\n",
      "fc2.2.bias\n"
     ]
    }
   ],
   "source": [
    "for name , param in foundation_model.named_parameters():\n",
    "    print(name)"
   ]
  },
  {
   "cell_type": "code",
   "execution_count": 7,
   "id": "2bb24dac",
   "metadata": {},
   "outputs": [],
   "source": [
    "for name , param in foundation_model.named_parameters():\n",
    "    if 'weight' in name and \"fc2.0\" in name:\n",
    "        fc20 = param"
   ]
  },
  {
   "cell_type": "code",
   "execution_count": 23,
   "id": "7cd5f041",
   "metadata": {},
   "outputs": [],
   "source": [
    "import numpy as np\n",
    "np.set_printoptions(suppress=True)"
   ]
  },
  {
   "cell_type": "code",
   "execution_count": 27,
   "id": "56b17abe",
   "metadata": {},
   "outputs": [],
   "source": [
    "with open('param.txt' , 'w') as f:\n",
    "    f.write(str(np.array(fc20.data.cpu())))"
   ]
  },
  {
   "cell_type": "code",
   "execution_count": null,
   "id": "0a16b7da",
   "metadata": {},
   "outputs": [],
   "source": []
  },
  {
   "cell_type": "code",
   "execution_count": 30,
   "id": "5b2547ff",
   "metadata": {},
   "outputs": [
    {
     "data": {
      "text/plain": [
       "array([[-0.00171588, -0.00270258,  0.00013805, ..., -0.00145565,\n",
       "         0.05860132,  0.01285341],\n",
       "       [-0.        ,  0.        , -0.        , ..., -0.        ,\n",
       "         0.        ,  0.        ],\n",
       "       [ 0.        , -0.        , -0.        , ..., -0.        ,\n",
       "         0.        ,  0.        ],\n",
       "       ...,\n",
       "       [-0.00118748, -0.00073553,  0.00000102, ..., -0.00247664,\n",
       "         0.00801164,  0.00915861],\n",
       "       [ 0.        , -0.        ,  0.        , ..., -0.        ,\n",
       "         0.        ,  0.        ],\n",
       "       [-0.0006139 , -0.0036304 , -0.00004368, ...,  0.00229722,\n",
       "        -0.00249339, -0.02061759]], dtype=float32)"
      ]
     },
     "execution_count": 30,
     "metadata": {},
     "output_type": "execute_result"
    }
   ],
   "source": [
    "np.array(fc20.data.cpu())"
   ]
  },
  {
   "cell_type": "code",
   "execution_count": null,
   "id": "30aa757c",
   "metadata": {},
   "outputs": [],
   "source": [
    "import numpy as np\n"
   ]
  },
  {
   "cell_type": "code",
   "execution_count": 11,
   "id": "a0525c11",
   "metadata": {},
   "outputs": [],
   "source": [
    "import pickle\n",
    "with open('val_loader.pkl' , 'rb') as f:\n",
    "    data = pickle.load(f)"
   ]
  },
  {
   "cell_type": "code",
   "execution_count": 12,
   "id": "8595afd6",
   "metadata": {},
   "outputs": [],
   "source": [
    "for batch in data:\n",
    "    batch_visual, batch_audio, batch_action , batch_angle = batch\n",
    "    break"
   ]
  },
  {
   "cell_type": "code",
   "execution_count": 13,
   "id": "b5f55dc6",
   "metadata": {},
   "outputs": [],
   "source": [
    "batch_angle = batch_angle.float()"
   ]
  },
  {
   "cell_type": "code",
   "execution_count": 14,
   "id": "1e5ffb15",
   "metadata": {},
   "outputs": [],
   "source": [
    "NUM_SECTORS = 8\n",
    "SECTOR_ANGLE = 2 * 180 / NUM_SECTORS \n",
    "sector_label = torch.remainder(batch_angle + 180, 2*180) // SECTOR_ANGLE\n",
    "sector_label = sector_label.long()"
   ]
  },
  {
   "cell_type": "code",
   "execution_count": 15,
   "id": "e8c5db36",
   "metadata": {},
   "outputs": [
    {
     "data": {
      "text/plain": [
       "tensor([3, 4, 4, 5, 2, 3, 4, 5, 0, 3, 3, 3, 4, 3, 4, 0, 7, 4, 1, 3, 2, 6, 3, 3,\n",
       "        4, 5, 1, 4, 5, 3, 6, 0, 4, 2, 3, 0, 7, 2, 4, 3, 4, 3, 3, 3, 6, 5, 1, 4,\n",
       "        2, 7, 5, 4, 6, 0, 4, 2, 2, 4, 5, 2, 4, 4, 4, 3])"
      ]
     },
     "execution_count": 15,
     "metadata": {},
     "output_type": "execute_result"
    }
   ],
   "source": [
    "sector_label"
   ]
  },
  {
   "cell_type": "code",
   "execution_count": 16,
   "id": "f9e16fd9",
   "metadata": {},
   "outputs": [
    {
     "data": {
      "text/plain": [
       "tensor([4, 4, 4, 4, 4, 4, 4, 4, 4, 4, 4, 4, 4, 4, 4, 4, 4, 4, 4, 4, 4, 4, 4, 4,\n",
       "        4, 4, 4, 4, 4, 4, 4, 4, 4, 4, 4, 4, 4, 4, 4, 4, 4, 4, 4, 4, 4, 4, 4, 4,\n",
       "        4, 4, 4, 4, 4, 4, 4, 4, 4, 4, 4, 4, 4, 4, 4, 4], device='cuda:0')"
      ]
     },
     "execution_count": 16,
     "metadata": {},
     "output_type": "execute_result"
    }
   ],
   "source": [
    "torch.argmax(foundation_model(batch_audio.to('cuda')) , dim= 1)"
   ]
  }
 ],
 "metadata": {
  "kernelspec": {
   "display_name": "ss",
   "language": "python",
   "name": "python3"
  },
  "language_info": {
   "codemirror_mode": {
    "name": "ipython",
    "version": 3
   },
   "file_extension": ".py",
   "mimetype": "text/x-python",
   "name": "python",
   "nbconvert_exporter": "python",
   "pygments_lexer": "ipython3",
   "version": "3.9.18"
  }
 },
 "nbformat": 4,
 "nbformat_minor": 5
}
