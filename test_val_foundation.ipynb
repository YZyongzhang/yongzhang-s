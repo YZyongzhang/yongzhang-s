{
 "cells": [
  {
   "cell_type": "code",
   "execution_count": 75,
   "id": "2edfac7f",
   "metadata": {},
   "outputs": [
    {
     "data": {
      "text/plain": [
       "Network(\n",
       "  (vitpartnet): ViTEncoder(\n",
       "    (audioencode): AudioEncoder(\n",
       "      (conv2d_1): Conv2d(2, 128, kernel_size=(16, 16), stride=(16, 16), padding=(1, 1))\n",
       "    )\n",
       "    (positionnal): PositionalEcoder()\n",
       "    (addpostional): AddPostional(\n",
       "      (positional): PositionalEcoder()\n",
       "      (visualencoder): VisualEncoder(\n",
       "        (conv2d_1): Conv2d(3, 128, kernel_size=(16, 16), stride=(16, 16))\n",
       "      )\n",
       "      (audioencoder): AudioEncoder(\n",
       "        (conv2d_1): Conv2d(2, 128, kernel_size=(16, 16), stride=(16, 16), padding=(1, 1))\n",
       "      )\n",
       "    )\n",
       "    (vaencode): VAEncode(\n",
       "      (visual_transformer_encoder): Encoder(\n",
       "        (layers): ModuleList(\n",
       "          (0-5): 6 x EncoderLayer(\n",
       "            (attention): MultiHeadAttention(\n",
       "              (attention): ScaleDotProductAttention(\n",
       "                (softmax): Softmax(dim=-1)\n",
       "              )\n",
       "              (w_q): Linear(in_features=128, out_features=128, bias=True)\n",
       "              (w_k): Linear(in_features=128, out_features=128, bias=True)\n",
       "              (w_v): Linear(in_features=128, out_features=128, bias=True)\n",
       "              (w_concat): Linear(in_features=128, out_features=128, bias=True)\n",
       "            )\n",
       "            (norm1): LayerNorm()\n",
       "            (dropout1): Dropout(p=0.2, inplace=False)\n",
       "            (ffn): PositionwiseFeedForward(\n",
       "              (linear1): Linear(in_features=128, out_features=64, bias=True)\n",
       "              (linear2): Linear(in_features=64, out_features=128, bias=True)\n",
       "              (relu): ReLU()\n",
       "              (dropout): Dropout(p=0.2, inplace=False)\n",
       "            )\n",
       "            (norm2): LayerNorm()\n",
       "            (dropout2): Dropout(p=0.2, inplace=False)\n",
       "          )\n",
       "        )\n",
       "      )\n",
       "      (audio_transformer_encoder): Encoder(\n",
       "        (layers): ModuleList(\n",
       "          (0-5): 6 x EncoderLayer(\n",
       "            (attention): MultiHeadAttention(\n",
       "              (attention): ScaleDotProductAttention(\n",
       "                (softmax): Softmax(dim=-1)\n",
       "              )\n",
       "              (w_q): Linear(in_features=128, out_features=128, bias=True)\n",
       "              (w_k): Linear(in_features=128, out_features=128, bias=True)\n",
       "              (w_v): Linear(in_features=128, out_features=128, bias=True)\n",
       "              (w_concat): Linear(in_features=128, out_features=128, bias=True)\n",
       "            )\n",
       "            (norm1): LayerNorm()\n",
       "            (dropout1): Dropout(p=0.2, inplace=False)\n",
       "            (ffn): PositionwiseFeedForward(\n",
       "              (linear1): Linear(in_features=128, out_features=64, bias=True)\n",
       "              (linear2): Linear(in_features=64, out_features=128, bias=True)\n",
       "              (relu): ReLU()\n",
       "              (dropout): Dropout(p=0.2, inplace=False)\n",
       "            )\n",
       "            (norm2): LayerNorm()\n",
       "            (dropout2): Dropout(p=0.2, inplace=False)\n",
       "          )\n",
       "        )\n",
       "      )\n",
       "      (share_visual_audio_encoder): Encoder(\n",
       "        (layers): ModuleList(\n",
       "          (0-5): 6 x EncoderLayer(\n",
       "            (attention): MultiHeadAttention(\n",
       "              (attention): ScaleDotProductAttention(\n",
       "                (softmax): Softmax(dim=-1)\n",
       "              )\n",
       "              (w_q): Linear(in_features=128, out_features=128, bias=True)\n",
       "              (w_k): Linear(in_features=128, out_features=128, bias=True)\n",
       "              (w_v): Linear(in_features=128, out_features=128, bias=True)\n",
       "              (w_concat): Linear(in_features=128, out_features=128, bias=True)\n",
       "            )\n",
       "            (norm1): LayerNorm()\n",
       "            (dropout1): Dropout(p=0.2, inplace=False)\n",
       "            (ffn): PositionwiseFeedForward(\n",
       "              (linear1): Linear(in_features=128, out_features=64, bias=True)\n",
       "              (linear2): Linear(in_features=64, out_features=128, bias=True)\n",
       "              (relu): ReLU()\n",
       "              (dropout): Dropout(p=0.2, inplace=False)\n",
       "            )\n",
       "            (norm2): LayerNorm()\n",
       "            (dropout2): Dropout(p=0.2, inplace=False)\n",
       "          )\n",
       "        )\n",
       "      )\n",
       "    )\n",
       "    (vadecode): VADecode(\n",
       "      (audio_visual_decoder): TransformerDecoder(\n",
       "        (layers): ModuleList(\n",
       "          (0-5): 6 x TransformerDecoderLayer(\n",
       "            (self_attn): MultiheadAttention(\n",
       "              (out_proj): NonDynamicallyQuantizableLinear(in_features=128, out_features=128, bias=True)\n",
       "            )\n",
       "            (multihead_attn): MultiheadAttention(\n",
       "              (out_proj): NonDynamicallyQuantizableLinear(in_features=128, out_features=128, bias=True)\n",
       "            )\n",
       "            (linear1): Linear(in_features=128, out_features=2048, bias=True)\n",
       "            (dropout): Dropout(p=0.1, inplace=False)\n",
       "            (linear2): Linear(in_features=2048, out_features=128, bias=True)\n",
       "            (norm1): LayerNorm((128,), eps=1e-05, elementwise_affine=True)\n",
       "            (norm2): LayerNorm((128,), eps=1e-05, elementwise_affine=True)\n",
       "            (norm3): LayerNorm((128,), eps=1e-05, elementwise_affine=True)\n",
       "            (dropout1): Dropout(p=0.1, inplace=False)\n",
       "            (dropout2): Dropout(p=0.1, inplace=False)\n",
       "            (dropout3): Dropout(p=0.1, inplace=False)\n",
       "          )\n",
       "        )\n",
       "      )\n",
       "      (binaural_audio_decoder): TransformerDecoder(\n",
       "        (layers): ModuleList(\n",
       "          (0-5): 6 x TransformerDecoderLayer(\n",
       "            (self_attn): MultiheadAttention(\n",
       "              (out_proj): NonDynamicallyQuantizableLinear(in_features=128, out_features=128, bias=True)\n",
       "            )\n",
       "            (multihead_attn): MultiheadAttention(\n",
       "              (out_proj): NonDynamicallyQuantizableLinear(in_features=128, out_features=128, bias=True)\n",
       "            )\n",
       "            (linear1): Linear(in_features=128, out_features=2048, bias=True)\n",
       "            (dropout): Dropout(p=0.1, inplace=False)\n",
       "            (linear2): Linear(in_features=2048, out_features=128, bias=True)\n",
       "            (norm1): LayerNorm((128,), eps=1e-05, elementwise_affine=True)\n",
       "            (norm2): LayerNorm((128,), eps=1e-05, elementwise_affine=True)\n",
       "            (norm3): LayerNorm((128,), eps=1e-05, elementwise_affine=True)\n",
       "            (dropout1): Dropout(p=0.1, inplace=False)\n",
       "            (dropout2): Dropout(p=0.1, inplace=False)\n",
       "            (dropout3): Dropout(p=0.1, inplace=False)\n",
       "          )\n",
       "        )\n",
       "      )\n",
       "    )\n",
       "    (down_dim_1): Linear(in_features=10240, out_features=1024, bias=True)\n",
       "    (down_dim_2): Linear(in_features=1024, out_features=512, bias=True)\n",
       "    (activate): ReLU()\n",
       "  )\n",
       "  (attention): Attention(\n",
       "    (fc1): Linear(in_features=512, out_features=256, bias=True)\n",
       "    (fc2): Linear(in_features=256, out_features=128, bias=True)\n",
       "  )\n",
       "  (vote): Vote()\n",
       "  (decision): Decision(\n",
       "    (fc1): Linear(in_features=32, out_features=16, bias=True)\n",
       "    (fc2): Linear(in_features=16, out_features=4, bias=True)\n",
       "  )\n",
       "  (angle_part): AnglePredictor(\n",
       "    (fc): Sequential(\n",
       "      (0): Linear(in_features=128, out_features=64, bias=True)\n",
       "      (1): ReLU()\n",
       "      (2): Linear(in_features=64, out_features=1, bias=True)\n",
       "    )\n",
       "  )\n",
       "  (finnal): Finnal_model(\n",
       "    (dropout): Dropout(p=0.2, inplace=False)\n",
       "    (fc1): Linear(in_features=128, out_features=32, bias=True)\n",
       "    (fc2): Linear(in_features=32, out_features=4, bias=True)\n",
       "  )\n",
       ")"
      ]
     },
     "execution_count": 75,
     "metadata": {},
     "output_type": "execute_result"
    }
   ],
   "source": [
    "import torch\n",
    "import numpy\n",
    "ckpt = './experiment/train/v2/ckpt_foundation_add_val_with_audio_v_10_5/model_epoch_950.pth'\n",
    "from train import Network\n",
    "foundation_model = Network().to(torch.device('cuda'))\n",
    "foundation_model.load_state_dict(torch.load(ckpt))\n",
    "foundation_model.eval()"
   ]
  },
  {
   "cell_type": "code",
   "execution_count": 76,
   "id": "90f45470",
   "metadata": {},
   "outputs": [],
   "source": [
    "import pickle\n",
    "path = './dataset/pickle/v2/greedy(val_angle)/e9zR4mvMWw7/804341.pkl'\n",
    "with open(path , 'rb') as f:\n",
    "    data = pickle.load(f)"
   ]
  },
  {
   "cell_type": "code",
   "execution_count": 77,
   "id": "916922b6",
   "metadata": {},
   "outputs": [],
   "source": [
    "from train import AVtrans\n",
    "visual = []\n",
    "audios = []\n",
    "for d in data['obs']:\n",
    "    visual.append(torch.from_numpy(d['rgb']).float())\n",
    "    audio = d['spectrogram'][1]\n",
    "    audios.append(AVtrans.mel_audio(audio))\n",
    "visual = torch.stack(visual).to('cuda')\n",
    "audio = torch.stack(audios).to('cuda')\n"
   ]
  },
  {
   "cell_type": "code",
   "execution_count": 78,
   "id": "09d5f2c4",
   "metadata": {},
   "outputs": [],
   "source": [
    "action , angle = foundation_model(audio , visual)"
   ]
  },
  {
   "cell_type": "code",
   "execution_count": 79,
   "id": "4b9653f2",
   "metadata": {},
   "outputs": [
    {
     "data": {
      "text/plain": [
       "tensor([1, 1, 1, 3, 1, 3, 1, 1, 1, 2, 1, 1, 0, 1, 1, 1, 1, 1, 1, 1, 1, 1, 0, 1,\n",
       "        1, 1, 1, 0, 1, 1, 1, 0, 0], device='cuda:0')"
      ]
     },
     "execution_count": 79,
     "metadata": {},
     "output_type": "execute_result"
    }
   ],
   "source": [
    "torch.argmax(action , dim = 1)"
   ]
  },
  {
   "cell_type": "code",
   "execution_count": 80,
   "id": "f3995902",
   "metadata": {},
   "outputs": [
    {
     "data": {
      "text/plain": [
       "array([1, 1, 1, 2, 1, 1, 1, 2, 1, 3, 1, 1, 3, 1, 2, 1, 3, 1, 1, 1, 1, 1,\n",
       "       2, 1, 1, 1, 3, 1, 1, 2, 1, 0])"
      ]
     },
     "execution_count": 80,
     "metadata": {},
     "output_type": "execute_result"
    }
   ],
   "source": [
    "numpy.array(data['action_id'][0])"
   ]
  },
  {
   "cell_type": "code",
   "execution_count": 81,
   "id": "fc321f71",
   "metadata": {},
   "outputs": [],
   "source": [
    "preds = action.argmax(dim=1)  # [batch]"
   ]
  },
  {
   "cell_type": "code",
   "execution_count": 87,
   "id": "c166aad9",
   "metadata": {},
   "outputs": [
    {
     "data": {
      "text/plain": [
       "False"
      ]
     },
     "execution_count": 87,
     "metadata": {},
     "output_type": "execute_result"
    }
   ],
   "source": [
    "preds == data['action_id'][0]"
   ]
  },
  {
   "cell_type": "code",
   "execution_count": 90,
   "id": "559e0f37",
   "metadata": {},
   "outputs": [],
   "source": [
    "correct = ( action.argmax(dim=1)[:-1] == torch.tensor(data['action_id'][0]).to('cuda')).sum().item()"
   ]
  },
  {
   "cell_type": "code",
   "execution_count": 91,
   "id": "4d882e4e",
   "metadata": {},
   "outputs": [
    {
     "data": {
      "text/plain": [
       "21"
      ]
     },
     "execution_count": 91,
     "metadata": {},
     "output_type": "execute_result"
    }
   ],
   "source": [
    "correct"
   ]
  },
  {
   "cell_type": "code",
   "execution_count": 92,
   "id": "54d1d810",
   "metadata": {},
   "outputs": [
    {
     "data": {
      "text/plain": [
       "33"
      ]
     },
     "execution_count": 92,
     "metadata": {},
     "output_type": "execute_result"
    }
   ],
   "source": [
    "len(data['obs'])"
   ]
  },
  {
   "cell_type": "code",
   "execution_count": null,
   "id": "0c9e6ad9",
   "metadata": {},
   "outputs": [],
   "source": [
    "[3, 1, 1, 2, 1, 2, 1, 1, 1, 1, 1, 1, 1, 1, 0, 1, 1]\n",
    "[3, 1, 1, 3, 1, 2, 1, 1, 1, 1, 1, 1, 1, 1, 3, 1, 0]"
   ]
  },
  {
   "cell_type": "code",
   "execution_count": 56,
   "id": "e81c0377",
   "metadata": {},
   "outputs": [
    {
     "ename": "RuntimeError",
     "evalue": "a Tensor with 18 elements cannot be converted to Scalar",
     "output_type": "error",
     "traceback": [
      "\u001b[0;31m---------------------------------------------------------------------------\u001b[0m",
      "\u001b[0;31mRuntimeError\u001b[0m                              Traceback (most recent call last)",
      "Cell \u001b[0;32mIn[56], line 1\u001b[0m\n\u001b[0;32m----> 1\u001b[0m \u001b[38;5;28mprint\u001b[39m(\u001b[38;5;124mf\u001b[39m\u001b[38;5;124m\"\u001b[39m\u001b[38;5;124mpredict action is \u001b[39m\u001b[38;5;132;01m{\u001b[39;00mtorch\u001b[38;5;241m.\u001b[39margmax(action\u001b[38;5;250m \u001b[39m,\u001b[38;5;250m \u001b[39mdim\u001b[38;5;241m=\u001b[39m\u001b[38;5;241m1\u001b[39m)\u001b[38;5;132;01m}\u001b[39;00m\u001b[38;5;124m ,grandtruth is \u001b[39m\u001b[38;5;132;01m{\u001b[39;00mdata[\u001b[38;5;124m'\u001b[39m\u001b[38;5;124maction_id\u001b[39m\u001b[38;5;124m'\u001b[39m][\u001b[38;5;241m0\u001b[39m]\u001b[38;5;132;01m}\u001b[39;00m\u001b[38;5;124m,\u001b[39m\u001b[38;5;130;01m\\n\u001b[39;00m\u001b[38;5;124mpredict angle is \u001b[39m\u001b[38;5;132;01m{\u001b[39;00mangle\u001b[38;5;241m.\u001b[39mitem()\u001b[38;5;132;01m}\u001b[39;00m\u001b[38;5;124m,grandtruth is \u001b[39m\u001b[38;5;132;01m{\u001b[39;00mdata[\u001b[38;5;124m'\u001b[39m\u001b[38;5;124mobs\u001b[39m\u001b[38;5;124m'\u001b[39m][\u001b[38;5;241m2\u001b[39m][\u001b[38;5;124m'\u001b[39m\u001b[38;5;124mangle\u001b[39m\u001b[38;5;124m'\u001b[39m][\u001b[38;5;241m1\u001b[39m]\u001b[38;5;132;01m}\u001b[39;00m\u001b[38;5;124m\"\u001b[39m)\n",
      "\u001b[0;31mRuntimeError\u001b[0m: a Tensor with 18 elements cannot be converted to Scalar"
     ]
    }
   ],
   "source": [
    "print(f\"predict action is {torch.argmax(action , dim=1)} ,grandtruth is {data['action_id'][0]},\\npredict angle is {angle.item()},grandtruth is {data['obs'][2]['angle'][1]}\")"
   ]
  },
  {
   "cell_type": "code",
   "execution_count": null,
   "id": "b36d4c1a",
   "metadata": {},
   "outputs": [],
   "source": [
    "angle"
   ]
  },
  {
   "cell_type": "code",
   "execution_count": null,
   "id": "7b626b36",
   "metadata": {},
   "outputs": [
    {
     "data": {
      "text/plain": [
       "18"
      ]
     },
     "execution_count": 62,
     "metadata": {},
     "output_type": "execute_result"
    }
   ],
   "source": [
    "len(data['obs']) / 3"
   ]
  },
  {
   "cell_type": "code",
   "execution_count": null,
   "id": "a0525c11",
   "metadata": {},
   "outputs": [],
   "source": []
  }
 ],
 "metadata": {
  "kernelspec": {
   "display_name": "ss",
   "language": "python",
   "name": "python3"
  },
  "language_info": {
   "codemirror_mode": {
    "name": "ipython",
    "version": 3
   },
   "file_extension": ".py",
   "mimetype": "text/x-python",
   "name": "python",
   "nbconvert_exporter": "python",
   "pygments_lexer": "ipython3",
   "version": "3.9.18"
  }
 },
 "nbformat": 4,
 "nbformat_minor": 5
}
