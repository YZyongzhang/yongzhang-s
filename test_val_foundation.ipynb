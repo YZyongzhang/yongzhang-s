{
 "cells": [
  {
   "cell_type": "code",
   "execution_count": 4,
   "id": "2edfac7f",
   "metadata": {},
   "outputs": [],
   "source": [
    "import torch\n",
    "import numpy\n",
    "# ckpt = './experiment/train/v2/ckpt_foundation_add_val_with_audio_v_10_5/model_epoch_950.pth'\n",
    "# from train import Network\n",
    "# foundation_model = Network().to(torch.device('cuda'))\n",
    "# foundation_model.load_state_dict(torch.load(ckpt))\n",
    "# foundation_model.eval()"
   ]
  },
  {
   "cell_type": "code",
   "execution_count": 1,
   "id": "90f45470",
   "metadata": {},
   "outputs": [
    {
     "name": "stderr",
     "output_type": "stream",
     "text": [
      "/home/getuanhui/anaconda3/envs/ss/lib/python3.9/site-packages/tqdm/auto.py:21: TqdmWarning: IProgress not found. Please update jupyter and ipywidgets. See https://ipywidgets.readthedocs.io/en/stable/user_install.html\n",
      "  from .autonotebook import tqdm as notebook_tqdm\n"
     ]
    }
   ],
   "source": [
    "import pickle\n",
    "path = './dataset/pickle/v2/greedy(val_angle)/e9zR4mvMWw7/804341.pkl'\n",
    "with open(path , 'rb') as f:\n",
    "    data = pickle.load(f)"
   ]
  },
  {
   "cell_type": "code",
   "execution_count": 5,
   "id": "916922b6",
   "metadata": {},
   "outputs": [],
   "source": [
    "from train import AVtrans\n",
    "visual = []\n",
    "audios = []\n",
    "for d in data['obs']:\n",
    "    visual.append(torch.from_numpy(d['rgb']).float())\n",
    "    audio = d['spectrogram'][1]\n",
    "    audios.append(AVtrans.mel_audio(audio))\n",
    "visual = torch.stack(visual).to('cuda')\n",
    "audio = torch.stack(audios).to('cuda')\n"
   ]
  },
  {
   "cell_type": "code",
   "execution_count": 78,
   "id": "09d5f2c4",
   "metadata": {},
   "outputs": [],
   "source": [
    "action , angle = foundation_model(audio , visual)"
   ]
  },
  {
   "cell_type": "code",
   "execution_count": 79,
   "id": "4b9653f2",
   "metadata": {},
   "outputs": [
    {
     "data": {
      "text/plain": [
       "tensor([1, 1, 1, 3, 1, 3, 1, 1, 1, 2, 1, 1, 0, 1, 1, 1, 1, 1, 1, 1, 1, 1, 0, 1,\n",
       "        1, 1, 1, 0, 1, 1, 1, 0, 0], device='cuda:0')"
      ]
     },
     "execution_count": 79,
     "metadata": {},
     "output_type": "execute_result"
    }
   ],
   "source": [
    "torch.argmax(action , dim = 1)"
   ]
  },
  {
   "cell_type": "code",
   "execution_count": 80,
   "id": "f3995902",
   "metadata": {},
   "outputs": [
    {
     "data": {
      "text/plain": [
       "array([1, 1, 1, 2, 1, 1, 1, 2, 1, 3, 1, 1, 3, 1, 2, 1, 3, 1, 1, 1, 1, 1,\n",
       "       2, 1, 1, 1, 3, 1, 1, 2, 1, 0])"
      ]
     },
     "execution_count": 80,
     "metadata": {},
     "output_type": "execute_result"
    }
   ],
   "source": [
    "numpy.array(data['action_id'][0])"
   ]
  },
  {
   "cell_type": "code",
   "execution_count": 81,
   "id": "fc321f71",
   "metadata": {},
   "outputs": [],
   "source": [
    "preds = action.argmax(dim=1)  # [batch]"
   ]
  },
  {
   "cell_type": "code",
   "execution_count": 87,
   "id": "c166aad9",
   "metadata": {},
   "outputs": [
    {
     "data": {
      "text/plain": [
       "False"
      ]
     },
     "execution_count": 87,
     "metadata": {},
     "output_type": "execute_result"
    }
   ],
   "source": [
    "preds == data['action_id'][0]"
   ]
  },
  {
   "cell_type": "code",
   "execution_count": 6,
   "id": "559e0f37",
   "metadata": {},
   "outputs": [
    {
     "ename": "NameError",
     "evalue": "name 'action' is not defined",
     "output_type": "error",
     "traceback": [
      "\u001b[0;31m---------------------------------------------------------------------------\u001b[0m",
      "\u001b[0;31mNameError\u001b[0m                                 Traceback (most recent call last)",
      "Cell \u001b[0;32mIn[6], line 1\u001b[0m\n\u001b[0;32m----> 1\u001b[0m correct \u001b[38;5;241m=\u001b[39m ( \u001b[43maction\u001b[49m\u001b[38;5;241m.\u001b[39margmax(dim\u001b[38;5;241m=\u001b[39m\u001b[38;5;241m1\u001b[39m)[:\u001b[38;5;241m-\u001b[39m\u001b[38;5;241m1\u001b[39m] \u001b[38;5;241m==\u001b[39m torch\u001b[38;5;241m.\u001b[39mtensor(data[\u001b[38;5;124m'\u001b[39m\u001b[38;5;124maction_id\u001b[39m\u001b[38;5;124m'\u001b[39m][\u001b[38;5;241m0\u001b[39m])\u001b[38;5;241m.\u001b[39mto(\u001b[38;5;124m'\u001b[39m\u001b[38;5;124mcuda\u001b[39m\u001b[38;5;124m'\u001b[39m))\u001b[38;5;241m.\u001b[39msum()\u001b[38;5;241m.\u001b[39mitem()\n",
      "\u001b[0;31mNameError\u001b[0m: name 'action' is not defined"
     ]
    }
   ],
   "source": [
    "correct = ( action.argmax(dim=1)[:-1] == torch.tensor(data['action_id'][0]).to('cuda')).sum().item()"
   ]
  },
  {
   "cell_type": "code",
   "execution_count": 91,
   "id": "4d882e4e",
   "metadata": {},
   "outputs": [
    {
     "data": {
      "text/plain": [
       "21"
      ]
     },
     "execution_count": 91,
     "metadata": {},
     "output_type": "execute_result"
    }
   ],
   "source": [
    "correct"
   ]
  },
  {
   "cell_type": "code",
   "execution_count": 92,
   "id": "54d1d810",
   "metadata": {},
   "outputs": [
    {
     "data": {
      "text/plain": [
       "33"
      ]
     },
     "execution_count": 92,
     "metadata": {},
     "output_type": "execute_result"
    }
   ],
   "source": [
    "len(data['obs'])"
   ]
  },
  {
   "cell_type": "code",
   "execution_count": null,
   "id": "0c9e6ad9",
   "metadata": {},
   "outputs": [],
   "source": [
    "[3, 1, 1, 2, 1, 2, 1, 1, 1, 1, 1, 1, 1, 1, 0, 1, 1]\n",
    "[3, 1, 1, 3, 1, 2, 1, 1, 1, 1, 1, 1, 1, 1, 3, 1, 0]"
   ]
  },
  {
   "cell_type": "code",
   "execution_count": 56,
   "id": "e81c0377",
   "metadata": {},
   "outputs": [
    {
     "ename": "RuntimeError",
     "evalue": "a Tensor with 18 elements cannot be converted to Scalar",
     "output_type": "error",
     "traceback": [
      "\u001b[0;31m---------------------------------------------------------------------------\u001b[0m",
      "\u001b[0;31mRuntimeError\u001b[0m                              Traceback (most recent call last)",
      "Cell \u001b[0;32mIn[56], line 1\u001b[0m\n\u001b[0;32m----> 1\u001b[0m \u001b[38;5;28mprint\u001b[39m(\u001b[38;5;124mf\u001b[39m\u001b[38;5;124m\"\u001b[39m\u001b[38;5;124mpredict action is \u001b[39m\u001b[38;5;132;01m{\u001b[39;00mtorch\u001b[38;5;241m.\u001b[39margmax(action\u001b[38;5;250m \u001b[39m,\u001b[38;5;250m \u001b[39mdim\u001b[38;5;241m=\u001b[39m\u001b[38;5;241m1\u001b[39m)\u001b[38;5;132;01m}\u001b[39;00m\u001b[38;5;124m ,grandtruth is \u001b[39m\u001b[38;5;132;01m{\u001b[39;00mdata[\u001b[38;5;124m'\u001b[39m\u001b[38;5;124maction_id\u001b[39m\u001b[38;5;124m'\u001b[39m][\u001b[38;5;241m0\u001b[39m]\u001b[38;5;132;01m}\u001b[39;00m\u001b[38;5;124m,\u001b[39m\u001b[38;5;130;01m\\n\u001b[39;00m\u001b[38;5;124mpredict angle is \u001b[39m\u001b[38;5;132;01m{\u001b[39;00mangle\u001b[38;5;241m.\u001b[39mitem()\u001b[38;5;132;01m}\u001b[39;00m\u001b[38;5;124m,grandtruth is \u001b[39m\u001b[38;5;132;01m{\u001b[39;00mdata[\u001b[38;5;124m'\u001b[39m\u001b[38;5;124mobs\u001b[39m\u001b[38;5;124m'\u001b[39m][\u001b[38;5;241m2\u001b[39m][\u001b[38;5;124m'\u001b[39m\u001b[38;5;124mangle\u001b[39m\u001b[38;5;124m'\u001b[39m][\u001b[38;5;241m1\u001b[39m]\u001b[38;5;132;01m}\u001b[39;00m\u001b[38;5;124m\"\u001b[39m)\n",
      "\u001b[0;31mRuntimeError\u001b[0m: a Tensor with 18 elements cannot be converted to Scalar"
     ]
    }
   ],
   "source": [
    "print(f\"predict action is {torch.argmax(action , dim=1)} ,grandtruth is {data['action_id'][0]},\\npredict angle is {angle.item()},grandtruth is {data['obs'][2]['angle'][1]}\")"
   ]
  },
  {
   "cell_type": "code",
   "execution_count": null,
   "id": "b36d4c1a",
   "metadata": {},
   "outputs": [],
   "source": [
    "angle"
   ]
  },
  {
   "cell_type": "code",
   "execution_count": null,
   "id": "7b626b36",
   "metadata": {},
   "outputs": [
    {
     "data": {
      "text/plain": [
       "18"
      ]
     },
     "execution_count": 62,
     "metadata": {},
     "output_type": "execute_result"
    }
   ],
   "source": [
    "len(data['obs']) / 3"
   ]
  },
  {
   "cell_type": "code",
   "execution_count": 22,
   "id": "e04e20bd",
   "metadata": {},
   "outputs": [],
   "source": [
    "import numpy as np\n",
    "from PIL import Image\n"
   ]
  },
  {
   "cell_type": "code",
   "execution_count": 8,
   "id": "a0525c11",
   "metadata": {},
   "outputs": [],
   "source": [
    "import pickle\n",
    "with open('val_loader.pkl' , 'rb') as f:\n",
    "    data = pickle.load(f)"
   ]
  },
  {
   "cell_type": "code",
   "execution_count": 11,
   "id": "8595afd6",
   "metadata": {},
   "outputs": [],
   "source": [
    "for batch in data:\n",
    "    batch_visual, batch_audio, batch_action , batch_angle = batch\n",
    "    break"
   ]
  },
  {
   "cell_type": "code",
   "execution_count": 41,
   "id": "21984082",
   "metadata": {},
   "outputs": [
    {
     "data": {
      "image/jpeg": "[encoded data removed]",
      "image/png": "[encoded data removed]",
      "text/plain": [
       "<PIL.Image.Image image mode=RGB size=128x128>"
      ]
     },
     "execution_count": 41,
     "metadata": {},
     "output_type": "execute_result"
    }
   ],
   "source": [
    "Image.fromarray((batch_visual[12].numpy() * 255).astype(np.uint8))"
   ]
  },
  {
   "cell_type": "code",
   "execution_count": 45,
   "id": "6939d276",
   "metadata": {},
   "outputs": [
    {
     "data": {
      "text/plain": [
       "tensor([[[-80.0000, -76.6446, -53.2768,  ..., -80.0000, -80.0000, -80.0000],\n",
       "         [-80.0000, -73.6990, -53.7427,  ..., -70.4090, -77.6059, -80.0000],\n",
       "         [-80.0000, -74.3179, -62.9438,  ..., -67.7027, -74.8325, -80.0000],\n",
       "         ...,\n",
       "         [-80.0000, -80.0000, -80.0000,  ..., -80.0000, -80.0000, -80.0000],\n",
       "         [-80.0000, -80.0000, -80.0000,  ..., -80.0000, -80.0000, -80.0000],\n",
       "         [-80.0000, -80.0000, -80.0000,  ..., -80.0000, -80.0000, -80.0000]],\n",
       "\n",
       "        [[-80.0000, -76.6444, -53.2699,  ..., -80.0000, -80.0000, -80.0000],\n",
       "         [-80.0000, -73.7819, -53.6622,  ..., -70.2378, -78.1260, -80.0000],\n",
       "         [-80.0000, -74.4999, -62.8331,  ..., -67.4482, -75.2963, -80.0000],\n",
       "         ...,\n",
       "         [-80.0000, -80.0000, -80.0000,  ..., -80.0000, -80.0000, -80.0000],\n",
       "         [-80.0000, -80.0000, -80.0000,  ..., -80.0000, -80.0000, -80.0000],\n",
       "         [-80.0000, -80.0000, -80.0000,  ..., -80.0000, -80.0000, -80.0000]]],\n",
       "       device='cuda:0')"
      ]
     },
     "execution_count": 45,
     "metadata": {},
     "output_type": "execute_result"
    }
   ],
   "source": [
    "audio[0]"
   ]
  },
  {
   "cell_type": "code",
   "execution_count": null,
   "id": "42f7603b",
   "metadata": {},
   "outputs": [],
   "source": []
  }
 ],
 "metadata": {
  "kernelspec": {
   "display_name": "ss",
   "language": "python",
   "name": "python3"
  },
  "language_info": {
   "codemirror_mode": {
    "name": "ipython",
    "version": 3
   },
   "file_extension": ".py",
   "mimetype": "text/x-python",
   "name": "python",
   "nbconvert_exporter": "python",
   "pygments_lexer": "ipython3",
   "version": "3.9.18"
  }
 },
 "nbformat": 4,
 "nbformat_minor": 5
}
