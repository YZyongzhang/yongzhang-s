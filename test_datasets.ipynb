{
 "cells": [
  {
   "cell_type": "code",
   "execution_count": 38,
   "id": "be7b8358",
   "metadata": {},
   "outputs": [],
   "source": [
    "import pickle\n",
    "path = 'dataset/pickle/v2/greedy(val_angle)/PuKPg4mmafe/900140.pkl'"
   ]
  },
  {
   "cell_type": "code",
   "execution_count": 39,
   "id": "07bd0d52",
   "metadata": {},
   "outputs": [],
   "source": [
    "with open(path , 'rb') as f:\n",
    "    data = pickle.load(f)"
   ]
  },
  {
   "cell_type": "code",
   "execution_count": 3,
   "id": "4db2bd38",
   "metadata": {},
   "outputs": [
    {
     "data": {
      "text/plain": [
       "dict_keys(['obs', 'reward', 'done', 'action_id', 'info', 'map', 'path_point', 'sound_id'])"
      ]
     },
     "execution_count": 3,
     "metadata": {},
     "output_type": "execute_result"
    }
   ],
   "source": [
    "data.keys(\n",
    ")"
   ]
  },
  {
   "cell_type": "code",
   "execution_count": 5,
   "id": "1edf11a7",
   "metadata": {},
   "outputs": [
    {
     "data": {
      "text/plain": [
       "dict_keys(['rgb', 'depth', 'spectrogram', 'category', 'pose', 'pose_gd', 'angle'])"
      ]
     },
     "execution_count": 5,
     "metadata": {},
     "output_type": "execute_result"
    }
   ],
   "source": [
    "data['obs'][0].keys()"
   ]
  },
  {
   "cell_type": "code",
   "execution_count": 33,
   "id": "6f6f452e",
   "metadata": {},
   "outputs": [],
   "source": [
    "from utils.visualizations import combine_all_audio_data"
   ]
  },
  {
   "cell_type": "code",
   "execution_count": 40,
   "id": "28d988e8",
   "metadata": {},
   "outputs": [
    {
     "data": {
      "text/plain": [
       "['val/chair/0102S12.2.wav']"
      ]
     },
     "execution_count": 40,
     "metadata": {},
     "output_type": "execute_result"
    }
   ],
   "source": [
    "data['sound_id']"
   ]
  },
  {
   "cell_type": "code",
   "execution_count": 41,
   "id": "f577c93b",
   "metadata": {},
   "outputs": [
    {
     "name": "stdout",
     "output_type": "stream",
     "text": [
      "开始处理 13 个音频片段...\n",
      "片段 0: 有声音 (最大值: 1.95e-03)\n",
      "片段 1: 有声音 (最大值: 1.63e-03)\n",
      "片段 2: 有声音 (最大值: 1.97e-03)\n",
      "片段 3: 有声音 (最大值: 5.00e-03)\n",
      "片段 4: 有声音 (最大值: 8.13e-03)\n",
      "片段 5: 有声音 (最大值: 1.07e-02)\n",
      "片段 6: 有声音 (最大值: 1.73e-02)\n",
      "片段 7: 有声音 (最大值: 2.32e-02)\n",
      "片段 8: 有声音 (最大值: 1.90e-02)\n",
      "片段 9: 有声音 (最大值: 1.15e-02)\n",
      "片段 10: 有声音 (最大值: 2.51e-02)\n",
      "片段 11: 有声音 (最大值: 1.31e-01)\n",
      "片段 12: 有声音 (最大值: 1.31e-01)\n",
      "正在合并音频片段...\n",
      "✅ 所有音频已合并保存至：1.wav\n",
      "合并后音频形状：(208000, 2)\n",
      "总时长：13.00 秒\n"
     ]
    }
   ],
   "source": [
    "combine_all_audio_data(data , output_path='1.wav')"
   ]
  },
  {
   "cell_type": "code",
   "execution_count": null,
   "id": "701dd988",
   "metadata": {},
   "outputs": [],
   "source": []
  }
 ],
 "metadata": {
  "kernelspec": {
   "display_name": "ss",
   "language": "python",
   "name": "python3"
  },
  "language_info": {
   "codemirror_mode": {
    "name": "ipython",
    "version": 3
   },
   "file_extension": ".py",
   "mimetype": "text/x-python",
   "name": "python",
   "nbconvert_exporter": "python",
   "pygments_lexer": "ipython3",
   "version": "3.9.18"
  }
 },
 "nbformat": 4,
 "nbformat_minor": 5
}
