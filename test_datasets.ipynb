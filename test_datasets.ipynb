{
 "cells": [
  {
   "cell_type": "code",
   "execution_count": 65,
   "id": "be7b8358",
   "metadata": {},
   "outputs": [],
   "source": [
    "import pickle\n",
    "path = 'dataset/pickle/v2/greedy(test_angle)/5ZKStnWn8Zo/1066605.pkl'"
   ]
  },
  {
   "cell_type": "code",
   "execution_count": 66,
   "id": "07bd0d52",
   "metadata": {},
   "outputs": [],
   "source": [
    "with open(path , 'rb') as f:\n",
    "    data = pickle.load(f)"
   ]
  },
  {
   "cell_type": "code",
   "execution_count": 3,
   "id": "4db2bd38",
   "metadata": {},
   "outputs": [
    {
     "data": {
      "text/plain": [
       "dict_keys(['obs', 'reward', 'done', 'action_id', 'info', 'map', 'path_point', 'sound_id'])"
      ]
     },
     "execution_count": 3,
     "metadata": {},
     "output_type": "execute_result"
    }
   ],
   "source": [
    "data.keys(\n",
    ")"
   ]
  },
  {
   "cell_type": "code",
   "execution_count": 89,
   "id": "1edf11a7",
   "metadata": {},
   "outputs": [
    {
     "data": {
      "text/plain": [
       "dict_keys(['rgb', 'depth', 'spectrogram', 'category', 'pose', 'pose_gd', 'angle'])"
      ]
     },
     "execution_count": 89,
     "metadata": {},
     "output_type": "execute_result"
    }
   ],
   "source": [
    "data['obs'][0].keys()"
   ]
  },
  {
   "cell_type": "code",
   "execution_count": 91,
   "id": "6b52d264",
   "metadata": {},
   "outputs": [],
   "source": [
    "from utils.angle import turn_angle"
   ]
  },
  {
   "cell_type": "code",
   "execution_count": 93,
   "id": "34a0c0d2",
   "metadata": {},
   "outputs": [
    {
     "data": {
      "text/plain": [
       "-3.38662651393257"
      ]
     },
     "execution_count": 93,
     "metadata": {},
     "output_type": "execute_result"
    }
   ],
   "source": [
    "turn_angle(data['obs'][0]['pose'], data['path_point'][0][-1])"
   ]
  },
  {
   "cell_type": "code",
   "execution_count": 14,
   "id": "c5ad0db7",
   "metadata": {},
   "outputs": [
    {
     "data": {
      "text/plain": [
       "{'distance_to_goal': 0.0,\n",
       " 'normalized_distance_to_goal': 0.0,\n",
       " 'success': 1.0,\n",
       " 'spl': 0.6666648476261747,\n",
       " 'softspl': 0.6666648476261747,\n",
       " 'na': 16,\n",
       " 'sna': 1.0,\n",
       " 'sws': 0.0,\n",
       " 'top_down_map': {'map': array([[0, 0, 0, ..., 0, 0, 0],\n",
       "         [0, 0, 0, ..., 0, 0, 0],\n",
       "         [0, 0, 0, ..., 0, 0, 0],\n",
       "         ...,\n",
       "         [0, 0, 0, ..., 0, 0, 0],\n",
       "         [0, 0, 0, ..., 0, 0, 0],\n",
       "         [0, 0, 0, ..., 0, 0, 0]], dtype=uint8),\n",
       "  'fog_of_war_mask': array([[0, 0, 0, ..., 0, 0, 0],\n",
       "         [0, 0, 0, ..., 0, 0, 0],\n",
       "         [0, 0, 0, ..., 0, 0, 0],\n",
       "         ...,\n",
       "         [0, 0, 0, ..., 0, 0, 0],\n",
       "         [0, 0, 0, ..., 0, 0, 0],\n",
       "         [0, 0, 0, ..., 0, 0, 0]], dtype=uint8),\n",
       "  'agent_map_coord': (295, 183),\n",
       "  'agent_angle': 6.283185307179586}}"
      ]
     },
     "execution_count": 14,
     "metadata": {},
     "output_type": "execute_result"
    }
   ],
   "source": [
    "data['info'][-1]"
   ]
  },
  {
   "cell_type": "code",
   "execution_count": 6,
   "id": "a4eece46",
   "metadata": {},
   "outputs": [
    {
     "data": {
      "text/plain": [
       "dict_keys(['rgb', 'depth', 'spectrogram', 'category', 'pose', 'pose_gd', 'angle'])"
      ]
     },
     "execution_count": 6,
     "metadata": {},
     "output_type": "execute_result"
    }
   ],
   "source": [
    "data['obs'][0].keys()"
   ]
  },
  {
   "cell_type": "code",
   "execution_count": 17,
   "id": "9b4ed32a",
   "metadata": {},
   "outputs": [
    {
     "data": {
      "text/plain": [
       "array([6.708204 , 2.6779451], dtype=float32)"
      ]
     },
     "execution_count": 17,
     "metadata": {},
     "output_type": "execute_result"
    }
   ],
   "source": [
    "data['obs'][0]['angle']"
   ]
  },
  {
   "cell_type": "code",
   "execution_count": 10,
   "id": "6bc0ecec",
   "metadata": {},
   "outputs": [
    {
     "data": {
      "text/plain": [
       "['val/sofa/136493.wav']"
      ]
     },
     "execution_count": 10,
     "metadata": {},
     "output_type": "execute_result"
    }
   ],
   "source": [
    "data['sound_id']"
   ]
  },
  {
   "cell_type": "code",
   "execution_count": 19,
   "id": "13f5be06",
   "metadata": {},
   "outputs": [
    {
     "data": {
      "text/plain": [
       "[-0.01,\n",
       " 0.99,\n",
       " 0.99,\n",
       " -0.01,\n",
       " 0.99,\n",
       " -0.01,\n",
       " 0.99,\n",
       " 0.99,\n",
       " 0.99,\n",
       " 0.99,\n",
       " 0.99,\n",
       " 0.99,\n",
       " 0.99,\n",
       " -0.01,\n",
       " -0.01,\n",
       " 0.99,\n",
       " 9.99]"
      ]
     },
     "execution_count": 19,
     "metadata": {},
     "output_type": "execute_result"
    }
   ],
   "source": [
    "data['reward']"
   ]
  },
  {
   "cell_type": "code",
   "execution_count": 96,
   "id": "de512ed3",
   "metadata": {},
   "outputs": [
    {
     "data": {
      "text/plain": [
       "array([0., 0., 1., 0., 0., 0., 0., 0., 0., 0., 0., 0., 0., 0., 0., 0., 0.,\n",
       "       0., 0., 0.])"
      ]
     },
     "execution_count": 96,
     "metadata": {},
     "output_type": "execute_result"
    }
   ],
   "source": [
    "data['obs'][2]['category']"
   ]
  },
  {
   "cell_type": "code",
   "execution_count": 97,
   "id": "3b9e894d",
   "metadata": {},
   "outputs": [
    {
     "data": {
      "text/plain": [
       "dict_keys(['rgb', 'depth', 'spectrogram', 'category', 'pose', 'pose_gd'])"
      ]
     },
     "execution_count": 97,
     "metadata": {},
     "output_type": "execute_result"
    }
   ],
   "source": [
    "data['obs'][0].keys()"
   ]
  },
  {
   "cell_type": "code",
   "execution_count": 109,
   "id": "2af45da8",
   "metadata": {},
   "outputs": [
    {
     "data": {
      "text/plain": [
       "32"
      ]
     },
     "execution_count": 109,
     "metadata": {},
     "output_type": "execute_result"
    }
   ],
   "source": [
    "len(data['reward'])"
   ]
  },
  {
   "cell_type": "code",
   "execution_count": 14,
   "id": "56be45ea",
   "metadata": {},
   "outputs": [
    {
     "data": {
      "text/plain": [
       "(65, 126, 4)"
      ]
     },
     "execution_count": 14,
     "metadata": {},
     "output_type": "execute_result"
    }
   ],
   "source": [
    "data['obs'][2]['spectrogram'][0].shape"
   ]
  },
  {
   "cell_type": "code",
   "execution_count": 4,
   "id": "b133857d",
   "metadata": {},
   "outputs": [],
   "source": [
    "from PIL import Image\n",
    "import numpy as np\n",
    "from utils.visualizations import plot_top_down_map"
   ]
  },
  {
   "cell_type": "code",
   "execution_count": 50,
   "id": "2555cbb4",
   "metadata": {},
   "outputs": [
    {
     "data": {
      "text/plain": [
       "{'distance_to_goal': 0.0,\n",
       " 'normalized_distance_to_goal': 0.0,\n",
       " 'success': 1.0,\n",
       " 'spl': 0.6666648476261747,\n",
       " 'softspl': 0.6666648476261747,\n",
       " 'na': 16,\n",
       " 'sna': 1.0,\n",
       " 'sws': 0.0,\n",
       " 'top_down_map': {'map': array([[0, 0, 0, ..., 0, 0, 0],\n",
       "         [0, 0, 0, ..., 0, 0, 0],\n",
       "         [0, 0, 0, ..., 0, 0, 0],\n",
       "         ...,\n",
       "         [0, 0, 0, ..., 0, 0, 0],\n",
       "         [0, 0, 0, ..., 0, 0, 0],\n",
       "         [0, 0, 0, ..., 0, 0, 0]], dtype=uint8),\n",
       "  'fog_of_war_mask': array([[0, 0, 0, ..., 0, 0, 0],\n",
       "         [0, 0, 0, ..., 0, 0, 0],\n",
       "         [0, 0, 0, ..., 0, 0, 0],\n",
       "         ...,\n",
       "         [0, 0, 0, ..., 0, 0, 0],\n",
       "         [0, 0, 0, ..., 0, 0, 0],\n",
       "         [0, 0, 0, ..., 0, 0, 0]], dtype=uint8),\n",
       "  'agent_map_coord': (295, 183),\n",
       "  'agent_angle': 6.283185307179586}}"
      ]
     },
     "execution_count": 50,
     "metadata": {},
     "output_type": "execute_result"
    }
   ],
   "source": [
    "data['info'][-1]"
   ]
  },
  {
   "cell_type": "code",
   "execution_count": 84,
   "id": "fa423f3a",
   "metadata": {},
   "outputs": [
    {
     "data": {
      "image/jpeg": "[encoded data removed]",
      "image/png": "[encoded data removed]",
      "text/plain": [
       "<PIL.Image.Image image mode=RGB size=1011x500>"
      ]
     },
     "execution_count": 84,
     "metadata": {},
     "output_type": "execute_result"
    }
   ],
   "source": [
    "top_down_map = plot_top_down_map(data['info'][6])\n",
    "Image.fromarray(top_down_map)"
   ]
  },
  {
   "cell_type": "code",
   "execution_count": 106,
   "id": "35140518",
   "metadata": {},
   "outputs": [
    {
     "data": {
      "text/plain": [
       "-0.0"
      ]
     },
     "execution_count": 106,
     "metadata": {},
     "output_type": "execute_result"
    }
   ],
   "source": [
    "np.degrees(data['obs'][7]['angle'][1])"
   ]
  },
  {
   "cell_type": "code",
   "execution_count": 107,
   "id": "a19805cb",
   "metadata": {},
   "outputs": [
    {
     "data": {
      "text/plain": [
       "-55.83651906290323"
      ]
     },
     "execution_count": 107,
     "metadata": {},
     "output_type": "execute_result"
    }
   ],
   "source": [
    "turn_angle(data['obs'][7]['pose'], data['path_point'][0][-1])"
   ]
  },
  {
   "cell_type": "code",
   "execution_count": 32,
   "id": "9f6ef3b0",
   "metadata": {},
   "outputs": [
    {
     "data": {
      "text/plain": [
       "{'distance_to_goal': 4.0,\n",
       " 'normalized_distance_to_goal': 0.4444444444444444,\n",
       " 'success': 0.0,\n",
       " 'spl': 0.0,\n",
       " 'softspl': 0.33333333333333337,\n",
       " 'na': 4,\n",
       " 'sna': 0.0,\n",
       " 'sws': 0.0,\n",
       " 'top_down_map': {'map': array([[0, 0, 0, ..., 0, 0, 0],\n",
       "         [0, 0, 0, ..., 0, 0, 0],\n",
       "         [0, 0, 0, ..., 0, 0, 0],\n",
       "         ...,\n",
       "         [0, 0, 0, ..., 0, 0, 0],\n",
       "         [0, 0, 0, ..., 0, 0, 0],\n",
       "         [0, 0, 0, ..., 0, 0, 0]], dtype=uint8),\n",
       "  'fog_of_war_mask': array([[0, 0, 0, ..., 0, 0, 0],\n",
       "         [0, 0, 0, ..., 0, 0, 0],\n",
       "         [0, 0, 0, ..., 0, 0, 0],\n",
       "         ...,\n",
       "         [0, 0, 0, ..., 0, 0, 0],\n",
       "         [0, 0, 0, ..., 0, 0, 0],\n",
       "         [0, 0, 0, ..., 0, 0, 0]], dtype=uint8),\n",
       "  'agent_map_coord': (234, 208),\n",
       "  'agent_angle': 6.283185307179586}}"
      ]
     },
     "execution_count": 32,
     "metadata": {},
     "output_type": "execute_result"
    }
   ],
   "source": [
    "data['info'][3]"
   ]
  },
  {
   "cell_type": "code",
   "execution_count": 36,
   "id": "20bc0439",
   "metadata": {},
   "outputs": [
    {
     "data": {
      "text/plain": [
       "[[2, 1, 2, 1, 1, 1, 3, 1, 2, 1, 3, 1, 1, 3, 1, 2, 1, 3, 1, 2, 1, 0]]"
      ]
     },
     "execution_count": 36,
     "metadata": {},
     "output_type": "execute_result"
    }
   ],
   "source": [
    "data['action_id']"
   ]
  },
  {
   "cell_type": "code",
   "execution_count": 37,
   "id": "3ebf4e2c",
   "metadata": {},
   "outputs": [
    {
     "data": {
      "text/plain": [
       "22"
      ]
     },
     "execution_count": 37,
     "metadata": {},
     "output_type": "execute_result"
    }
   ],
   "source": [
    "len(data['reward'])"
   ]
  },
  {
   "cell_type": "code",
   "execution_count": 38,
   "id": "b5ddbfd7",
   "metadata": {},
   "outputs": [
    {
     "data": {
      "text/plain": [
       "[{'distance_to_goal': 10.0,\n",
       "  'normalized_distance_to_goal': 0.8333333333333334,\n",
       "  'success': 0.0,\n",
       "  'spl': 0.0,\n",
       "  'softspl': 0.0,\n",
       "  'na': 1,\n",
       "  'sna': 0.0,\n",
       "  'sws': 0.0},\n",
       " {'distance_to_goal': 9.0,\n",
       "  'normalized_distance_to_goal': 0.75,\n",
       "  'success': 0.0,\n",
       "  'spl': 0.0,\n",
       "  'softspl': 0.09999999999999998,\n",
       "  'na': 2,\n",
       "  'sna': 0.0,\n",
       "  'sws': 0.0},\n",
       " {'distance_to_goal': 9.0,\n",
       "  'normalized_distance_to_goal': 0.75,\n",
       "  'success': 0.0,\n",
       "  'spl': 0.0,\n",
       "  'softspl': 0.09999999999999998,\n",
       "  'na': 3,\n",
       "  'sna': 0.0,\n",
       "  'sws': 0.0},\n",
       " {'distance_to_goal': 8.0,\n",
       "  'normalized_distance_to_goal': 0.6666666666666666,\n",
       "  'success': 0.0,\n",
       "  'spl': 0.0,\n",
       "  'softspl': 0.19999999999999996,\n",
       "  'na': 4,\n",
       "  'sna': 0.0,\n",
       "  'sws': 0.0},\n",
       " {'distance_to_goal': 7.0,\n",
       "  'normalized_distance_to_goal': 0.5833333333333334,\n",
       "  'success': 0.0,\n",
       "  'spl': 0.0,\n",
       "  'softspl': 0.30000000000000004,\n",
       "  'na': 5,\n",
       "  'sna': 0.0,\n",
       "  'sws': 0.0},\n",
       " {'distance_to_goal': 6.0,\n",
       "  'normalized_distance_to_goal': 0.5,\n",
       "  'success': 0.0,\n",
       "  'spl': 0.0,\n",
       "  'softspl': 0.4,\n",
       "  'na': 6,\n",
       "  'sna': 0.0,\n",
       "  'sws': 0.0},\n",
       " {'distance_to_goal': 6.0,\n",
       "  'normalized_distance_to_goal': 0.5,\n",
       "  'success': 0.0,\n",
       "  'spl': 0.0,\n",
       "  'softspl': 0.4,\n",
       "  'na': 7,\n",
       "  'sna': 0.0,\n",
       "  'sws': 0.0},\n",
       " {'distance_to_goal': 5.0,\n",
       "  'normalized_distance_to_goal': 0.4166666666666667,\n",
       "  'success': 0.0,\n",
       "  'spl': 0.0,\n",
       "  'softspl': 0.5,\n",
       "  'na': 8,\n",
       "  'sna': 0.0,\n",
       "  'sws': 0.0},\n",
       " {'distance_to_goal': 5.0,\n",
       "  'normalized_distance_to_goal': 0.4166666666666667,\n",
       "  'success': 0.0,\n",
       "  'spl': 0.0,\n",
       "  'softspl': 0.5,\n",
       "  'na': 9,\n",
       "  'sna': 0.0,\n",
       "  'sws': 0.0},\n",
       " {'distance_to_goal': 4.0,\n",
       "  'normalized_distance_to_goal': 0.3333333333333333,\n",
       "  'success': 0.0,\n",
       "  'spl': 0.0,\n",
       "  'softspl': 0.6,\n",
       "  'na': 10,\n",
       "  'sna': 0.0,\n",
       "  'sws': 0.0},\n",
       " {'distance_to_goal': 4.0,\n",
       "  'normalized_distance_to_goal': 0.3333333333333333,\n",
       "  'success': 0.0,\n",
       "  'spl': 0.0,\n",
       "  'softspl': 0.6,\n",
       "  'na': 11,\n",
       "  'sna': 0.0,\n",
       "  'sws': 0.0},\n",
       " {'distance_to_goal': 3.0,\n",
       "  'normalized_distance_to_goal': 0.25,\n",
       "  'success': 0.0,\n",
       "  'spl': 0.0,\n",
       "  'softspl': 0.7,\n",
       "  'na': 12,\n",
       "  'sna': 0.0,\n",
       "  'sws': 0.0},\n",
       " {'distance_to_goal': 2.0,\n",
       "  'normalized_distance_to_goal': 0.16666666666666666,\n",
       "  'success': 0.0,\n",
       "  'spl': 0.0,\n",
       "  'softspl': 0.8,\n",
       "  'na': 13,\n",
       "  'sna': 0.0,\n",
       "  'sws': 0.0},\n",
       " {'distance_to_goal': 2.0,\n",
       "  'normalized_distance_to_goal': 0.16666666666666666,\n",
       "  'success': 0.0,\n",
       "  'spl': 0.0,\n",
       "  'softspl': 0.8,\n",
       "  'na': 14,\n",
       "  'sna': 0.0,\n",
       "  'sws': 0.0},\n",
       " {'distance_to_goal': 1.0,\n",
       "  'normalized_distance_to_goal': 0.08333333333333333,\n",
       "  'success': 0.0,\n",
       "  'spl': 0.0,\n",
       "  'softspl': 0.9,\n",
       "  'na': 15,\n",
       "  'sna': 0.0,\n",
       "  'sws': 0.0},\n",
       " {'distance_to_goal': 1.0,\n",
       "  'normalized_distance_to_goal': 0.08333333333333333,\n",
       "  'success': 0.0,\n",
       "  'spl': 0.0,\n",
       "  'softspl': 0.9,\n",
       "  'na': 16,\n",
       "  'sna': 0.0,\n",
       "  'sws': 0.0},\n",
       " {'distance_to_goal': 0.0,\n",
       "  'normalized_distance_to_goal': 0.0,\n",
       "  'success': 0.0,\n",
       "  'spl': 0.0,\n",
       "  'softspl': 1.0,\n",
       "  'na': 17,\n",
       "  'sna': 0.0,\n",
       "  'sws': 0.0},\n",
       " {'distance_to_goal': 0.0,\n",
       "  'normalized_distance_to_goal': 0.0,\n",
       "  'success': 0.0,\n",
       "  'spl': 0.0,\n",
       "  'softspl': 1.0,\n",
       "  'na': 18,\n",
       "  'sna': 0.0,\n",
       "  'sws': 0.0},\n",
       " {'distance_to_goal': 0.0,\n",
       "  'normalized_distance_to_goal': 0.0,\n",
       "  'success': 0.0,\n",
       "  'spl': 0.0,\n",
       "  'softspl': 0.9090909287949244,\n",
       "  'na': 19,\n",
       "  'sna': 0.0,\n",
       "  'sws': 0.0},\n",
       " {'distance_to_goal': 0.0,\n",
       "  'normalized_distance_to_goal': 0.0,\n",
       "  'success': 0.0,\n",
       "  'spl': 0.0,\n",
       "  'softspl': 0.9090909287949244,\n",
       "  'na': 20,\n",
       "  'sna': 0.0,\n",
       "  'sws': 0.0},\n",
       " {'distance_to_goal': 0.0,\n",
       "  'normalized_distance_to_goal': 0.0,\n",
       "  'success': 0.0,\n",
       "  'spl': 0.0,\n",
       "  'softspl': 0.8333333498901795,\n",
       "  'na': 21,\n",
       "  'sna': 0.0,\n",
       "  'sws': 0.0},\n",
       " {'distance_to_goal': 0.0,\n",
       "  'normalized_distance_to_goal': 0.0,\n",
       "  'success': 1.0,\n",
       "  'spl': 0.8333333498901795,\n",
       "  'softspl': 0.8333333498901795,\n",
       "  'na': 22,\n",
       "  'sna': 1.0,\n",
       "  'sws': 0.0}]"
      ]
     },
     "execution_count": 38,
     "metadata": {},
     "output_type": "execute_result"
    }
   ],
   "source": [
    "data['info']"
   ]
  },
  {
   "cell_type": "code",
   "execution_count": null,
   "id": "2201ffb2",
   "metadata": {},
   "outputs": [],
   "source": []
  }
 ],
 "metadata": {
  "kernelspec": {
   "display_name": "ss",
   "language": "python",
   "name": "python3"
  },
  "language_info": {
   "codemirror_mode": {
    "name": "ipython",
    "version": 3
   },
   "file_extension": ".py",
   "mimetype": "text/x-python",
   "name": "python",
   "nbconvert_exporter": "python",
   "pygments_lexer": "ipython3",
   "version": "3.9.18"
  }
 },
 "nbformat": 4,
 "nbformat_minor": 5
}
