{
 "cells": [
  {
   "cell_type": "code",
   "execution_count": 119,
   "id": "be7b8358",
   "metadata": {},
   "outputs": [],
   "source": [
    "import pickle\n",
    "path = 'dataset/pickle/greedy(test_audio_con)/ac26ZMwG7aT/1007419.pkl'"
   ]
  },
  {
   "cell_type": "code",
   "execution_count": 120,
   "id": "07bd0d52",
   "metadata": {},
   "outputs": [],
   "source": [
    "with open(path , 'rb') as f:\n",
    "    data = pickle.load(f)"
   ]
  },
  {
   "cell_type": "code",
   "execution_count": 88,
   "id": "4db2bd38",
   "metadata": {},
   "outputs": [
    {
     "data": {
      "text/plain": [
       "dict_keys(['obs', 'reward', 'done', 'action_id', 'info', 'map', 'path_point'])"
      ]
     },
     "execution_count": 88,
     "metadata": {},
     "output_type": "execute_result"
    }
   ],
   "source": [
    "data.keys(\n",
    ")"
   ]
  },
  {
   "cell_type": "code",
   "execution_count": 73,
   "id": "13f5be06",
   "metadata": {},
   "outputs": [
    {
     "data": {
      "text/plain": [
       "[-1.01, -0.01, -1.01, -0.01, -0.01, 0.99, -0.01, 0.99, 0.99, 9.99]"
      ]
     },
     "execution_count": 73,
     "metadata": {},
     "output_type": "execute_result"
    }
   ],
   "source": [
    "data['reward']"
   ]
  },
  {
   "cell_type": "code",
   "execution_count": 96,
   "id": "de512ed3",
   "metadata": {},
   "outputs": [
    {
     "data": {
      "text/plain": [
       "array([0., 0., 1., 0., 0., 0., 0., 0., 0., 0., 0., 0., 0., 0., 0., 0., 0.,\n",
       "       0., 0., 0.])"
      ]
     },
     "execution_count": 96,
     "metadata": {},
     "output_type": "execute_result"
    }
   ],
   "source": [
    "data['obs'][2]['category']"
   ]
  },
  {
   "cell_type": "code",
   "execution_count": 97,
   "id": "3b9e894d",
   "metadata": {},
   "outputs": [
    {
     "data": {
      "text/plain": [
       "dict_keys(['rgb', 'depth', 'spectrogram', 'category', 'pose', 'pose_gd'])"
      ]
     },
     "execution_count": 97,
     "metadata": {},
     "output_type": "execute_result"
    }
   ],
   "source": [
    "data['obs'][0].keys()"
   ]
  },
  {
   "cell_type": "code",
   "execution_count": 109,
   "id": "2af45da8",
   "metadata": {},
   "outputs": [
    {
     "data": {
      "text/plain": [
       "32"
      ]
     },
     "execution_count": 109,
     "metadata": {},
     "output_type": "execute_result"
    }
   ],
   "source": [
    "len(data['reward'])"
   ]
  },
  {
   "cell_type": "code",
   "execution_count": 101,
   "id": "56be45ea",
   "metadata": {},
   "outputs": [
    {
     "data": {
      "text/plain": [
       "array([[ 0.00323189,  0.00380709,  0.00355894, ..., -0.00147385,\n",
       "        -0.00169737, -0.00033214],\n",
       "       [-0.00117328, -0.00119516, -0.00117229, ...,  0.0006929 ,\n",
       "         0.00035952, -0.00107068]])"
      ]
     },
     "execution_count": 101,
     "metadata": {},
     "output_type": "execute_result"
    }
   ],
   "source": [
    "data['obs'][2]['spectrogram'][1]"
   ]
  },
  {
   "cell_type": "code",
   "execution_count": 106,
   "id": "6ceedeae",
   "metadata": {},
   "outputs": [
    {
     "name": "stdout",
     "output_type": "stream",
     "text": [
      "音频最大值 1.77e-03，进行归一化保存。\n",
      "保存完成：output.wav, shape=(16000, 2)\n"
     ]
    }
   ],
   "source": [
    "import numpy as np\n",
    "import soundfile as sf\n",
    "\n",
    "def save_audio_or_silence(audio_data, output_path, samplerate=16000, silence_threshold=1e-6):\n",
    "    \"\"\"\n",
    "    如果音频能量过低，则保存为静音，否则保存归一化后的音频。\n",
    "    audio_data: np.ndarray, shape (channels, samples) or (samples, channels)\n",
    "    \"\"\"\n",
    "    audio_data = np.squeeze(audio_data)\n",
    "\n",
    "    # 转成 (samples, channels)\n",
    "    if audio_data.shape[0] < audio_data.shape[1]:\n",
    "        audio_data = audio_data.T  \n",
    "\n",
    "    # 计算能量\n",
    "    max_val = np.max(np.abs(audio_data))\n",
    "\n",
    "    if max_val < silence_threshold:\n",
    "        print(\"⚠️ 音频能量过低，保存为静音。\")\n",
    "        audio_int16 = np.zeros_like(audio_data, dtype=np.int16)\n",
    "    else:\n",
    "        print(f\"音频最大值 {max_val:.2e}，进行归一化保存。\")\n",
    "        audio_normalized = audio_data / max_val\n",
    "        audio_int16 = (audio_normalized * 32767).astype(np.int16)\n",
    "\n",
    "    sf.write(output_path, audio_int16, samplerate, subtype=\"PCM_16\")\n",
    "    print(f\"保存完成：{output_path}, shape={audio_int16.shape}\")\n",
    "\n",
    "# 用法\n",
    "save_audio_or_silence(data['obs'][6]['spectrogram'][1], \"output.wav\")\n"
   ]
  },
  {
   "cell_type": "code",
   "execution_count": 121,
   "id": "eeaac104",
   "metadata": {},
   "outputs": [
    {
     "name": "stdout",
     "output_type": "stream",
     "text": [
      "开始处理 17 个音频片段...\n",
      "片段 0: 有声音 (最大值: 1.28e-03)\n",
      "片段 1: 有声音 (最大值: 1.69e-02)\n",
      "片段 2: 有声音 (最大值: 8.40e-03)\n",
      "片段 3: 有声音 (最大值: 6.43e-03)\n",
      "片段 4: 有声音 (最大值: 7.74e-03)\n",
      "片段 5: 有声音 (最大值: 1.02e-02)\n",
      "片段 6: 有声音 (最大值: 1.07e-02)\n",
      "片段 7: 有声音 (最大值: 1.43e-03)\n",
      "片段 8: 有声音 (最大值: 1.18e-02)\n",
      "片段 9: 有声音 (最大值: 6.34e-03)\n",
      "片段 10: 有声音 (最大值: 6.74e-03)\n",
      "片段 11: 有声音 (最大值: 6.91e-03)\n",
      "片段 12: 有声音 (最大值: 7.33e-03)\n",
      "片段 13: 有声音 (最大值: 2.22e-02)\n",
      "片段 14: 有声音 (最大值: 2.60e-02)\n",
      "片段 15: 有声音 (最大值: 7.45e-02)\n",
      "片段 16: 有声音 (最大值: 7.45e-02)\n",
      "正在合并音频片段...\n",
      "✅ 所有音频已合并保存至：all_combined_audio.wav\n",
      "合并后音频形状：(272000, 2)\n",
      "总时长：17.00 秒\n"
     ]
    }
   ],
   "source": [
    "import numpy as np\n",
    "import soundfile as sf\n",
    "\n",
    "def save_audio_or_silence(audio_data, output_path, samplerate=16000, silence_threshold=1e-6):\n",
    "    \"\"\"\n",
    "    如果音频能量过低，则保存为静音，否则保存归一化后的音频。\n",
    "    audio_data: np.ndarray, shape (channels, samples) or (samples, channels)\n",
    "    \"\"\"\n",
    "    audio_data = np.squeeze(audio_data)\n",
    "\n",
    "    # 转成 (samples, channels)\n",
    "    if len(audio_data.shape) > 1 and audio_data.shape[0] < audio_data.shape[1]:\n",
    "        audio_data = audio_data.T  \n",
    "\n",
    "    # 计算能量\n",
    "    max_val = np.max(np.abs(audio_data))\n",
    "\n",
    "    if max_val < silence_threshold:\n",
    "        print(\"⚠️ 音频能量过低，保存为静音。\")\n",
    "        audio_int16 = np.zeros_like(audio_data, dtype=np.int16)\n",
    "    else:\n",
    "        print(f\"音频最大值 {max_val:.2e}，进行归一化保存。\")\n",
    "        audio_normalized = audio_data / max_val\n",
    "        audio_int16 = (audio_normalized * 32767).astype(np.int16)\n",
    "\n",
    "    sf.write(output_path, audio_int16, samplerate, subtype=\"PCM_16\")\n",
    "    print(f\"保存完成：{output_path}, shape={audio_int16.shape}\")\n",
    "\n",
    "def combine_all_audio_data(data, output_path=\"combined_audio.wav\", samplerate=16000):\n",
    "    \"\"\"\n",
    "    将所有 data['obs'] 的音频数据合并成一个文件\n",
    "    \"\"\"\n",
    "    all_audio_chunks = []\n",
    "    \n",
    "    print(f\"开始处理 {len(data['obs'])} 个音频片段...\")\n",
    "    \n",
    "    for i, obs in enumerate(data['obs']):\n",
    "        if 'spectrogram' in obs and len(obs['spectrogram']) > 1:\n",
    "            audio_chunk = obs['spectrogram'][1]\n",
    "            \n",
    "            # 预处理音频数据\n",
    "            audio_chunk = np.squeeze(audio_chunk)\n",
    "            \n",
    "            # 转成 (samples, channels)\n",
    "            if len(audio_chunk.shape) > 1 and audio_chunk.shape[0] < audio_chunk.shape[1]:\n",
    "                audio_chunk = audio_chunk.T\n",
    "            \n",
    "            # 检查是否为静音\n",
    "            max_val = np.max(np.abs(audio_chunk))\n",
    "            if max_val < 1e-6:\n",
    "                print(f\"片段 {i}: 静音\")\n",
    "                # 创建静音片段（保持相同长度）\n",
    "                if len(audio_chunk.shape) == 1:\n",
    "                    silent_chunk = np.zeros_like(audio_chunk)\n",
    "                else:\n",
    "                    silent_chunk = np.zeros_like(audio_chunk)\n",
    "                all_audio_chunks.append(silent_chunk)\n",
    "            else:\n",
    "                print(f\"片段 {i}: 有声音 (最大值: {max_val:.2e})\")\n",
    "                # 归一化并添加到列表\n",
    "                audio_normalized = audio_chunk / max_val\n",
    "                all_audio_chunks.append(audio_normalized)\n",
    "        else:\n",
    "            print(f\"片段 {i}: 无有效音频数据\")\n",
    "            # 创建默认静音片段（假设长度与其他相同）\n",
    "            if all_audio_chunks:\n",
    "                silent_shape = all_audio_chunks[0].shape\n",
    "                all_audio_chunks.append(np.zeros(silent_shape))\n",
    "    \n",
    "    if not all_audio_chunks:\n",
    "        print(\"错误：没有找到有效的音频数据\")\n",
    "        return\n",
    "    \n",
    "    # 合并所有音频片段\n",
    "    print(\"正在合并音频片段...\")\n",
    "    combined_audio = np.concatenate(all_audio_chunks, axis=0)\n",
    "    \n",
    "    # 最终归一化\n",
    "    combined_max = np.max(np.abs(combined_audio))\n",
    "    if combined_max > 0:\n",
    "        combined_audio = combined_audio / combined_max\n",
    "    \n",
    "    # 转换为 int16 并保存\n",
    "    audio_int16 = (combined_audio * 32767).astype(np.int16)\n",
    "    \n",
    "    sf.write(output_path, audio_int16, samplerate, subtype=\"PCM_16\")\n",
    "    print(f\"✅ 所有音频已合并保存至：{output_path}\")\n",
    "    print(f\"合并后音频形状：{audio_int16.shape}\")\n",
    "    print(f\"总时长：{len(audio_int16) / samplerate:.2f} 秒\")\n",
    "\n",
    "# 使用方法\n",
    "combine_all_audio_data(data, \"all_combined_audio.wav\")"
   ]
  },
  {
   "cell_type": "code",
   "execution_count": 116,
   "id": "b133857d",
   "metadata": {},
   "outputs": [],
   "source": [
    "from PIL import Image\n",
    "import numpy as np"
   ]
  },
  {
   "cell_type": "code",
   "execution_count": 118,
   "id": "fa423f3a",
   "metadata": {},
   "outputs": [
    {
     "data": {
      "image/jpeg": "[encoded data removed]",
      "image/png": "[encoded data removed]",
      "text/plain": [
       "<PIL.Image.Image image mode=RGB size=1024x1280>"
      ]
     },
     "execution_count": 118,
     "metadata": {},
     "output_type": "execute_result"
    }
   ],
   "source": [
    "Image.fromarray(data['collided_map'][0])"
   ]
  },
  {
   "cell_type": "code",
   "execution_count": 36,
   "id": "20bc0439",
   "metadata": {},
   "outputs": [
    {
     "data": {
      "text/plain": [
       "[[2, 1, 2, 1, 1, 1, 3, 1, 2, 1, 3, 1, 1, 3, 1, 2, 1, 3, 1, 2, 1, 0]]"
      ]
     },
     "execution_count": 36,
     "metadata": {},
     "output_type": "execute_result"
    }
   ],
   "source": [
    "data['action_id']"
   ]
  },
  {
   "cell_type": "code",
   "execution_count": 37,
   "id": "3ebf4e2c",
   "metadata": {},
   "outputs": [
    {
     "data": {
      "text/plain": [
       "22"
      ]
     },
     "execution_count": 37,
     "metadata": {},
     "output_type": "execute_result"
    }
   ],
   "source": [
    "len(data['reward'])"
   ]
  },
  {
   "cell_type": "code",
   "execution_count": 38,
   "id": "b5ddbfd7",
   "metadata": {},
   "outputs": [
    {
     "data": {
      "text/plain": [
       "[{'distance_to_goal': 10.0,\n",
       "  'normalized_distance_to_goal': 0.8333333333333334,\n",
       "  'success': 0.0,\n",
       "  'spl': 0.0,\n",
       "  'softspl': 0.0,\n",
       "  'na': 1,\n",
       "  'sna': 0.0,\n",
       "  'sws': 0.0},\n",
       " {'distance_to_goal': 9.0,\n",
       "  'normalized_distance_to_goal': 0.75,\n",
       "  'success': 0.0,\n",
       "  'spl': 0.0,\n",
       "  'softspl': 0.09999999999999998,\n",
       "  'na': 2,\n",
       "  'sna': 0.0,\n",
       "  'sws': 0.0},\n",
       " {'distance_to_goal': 9.0,\n",
       "  'normalized_distance_to_goal': 0.75,\n",
       "  'success': 0.0,\n",
       "  'spl': 0.0,\n",
       "  'softspl': 0.09999999999999998,\n",
       "  'na': 3,\n",
       "  'sna': 0.0,\n",
       "  'sws': 0.0},\n",
       " {'distance_to_goal': 8.0,\n",
       "  'normalized_distance_to_goal': 0.6666666666666666,\n",
       "  'success': 0.0,\n",
       "  'spl': 0.0,\n",
       "  'softspl': 0.19999999999999996,\n",
       "  'na': 4,\n",
       "  'sna': 0.0,\n",
       "  'sws': 0.0},\n",
       " {'distance_to_goal': 7.0,\n",
       "  'normalized_distance_to_goal': 0.5833333333333334,\n",
       "  'success': 0.0,\n",
       "  'spl': 0.0,\n",
       "  'softspl': 0.30000000000000004,\n",
       "  'na': 5,\n",
       "  'sna': 0.0,\n",
       "  'sws': 0.0},\n",
       " {'distance_to_goal': 6.0,\n",
       "  'normalized_distance_to_goal': 0.5,\n",
       "  'success': 0.0,\n",
       "  'spl': 0.0,\n",
       "  'softspl': 0.4,\n",
       "  'na': 6,\n",
       "  'sna': 0.0,\n",
       "  'sws': 0.0},\n",
       " {'distance_to_goal': 6.0,\n",
       "  'normalized_distance_to_goal': 0.5,\n",
       "  'success': 0.0,\n",
       "  'spl': 0.0,\n",
       "  'softspl': 0.4,\n",
       "  'na': 7,\n",
       "  'sna': 0.0,\n",
       "  'sws': 0.0},\n",
       " {'distance_to_goal': 5.0,\n",
       "  'normalized_distance_to_goal': 0.4166666666666667,\n",
       "  'success': 0.0,\n",
       "  'spl': 0.0,\n",
       "  'softspl': 0.5,\n",
       "  'na': 8,\n",
       "  'sna': 0.0,\n",
       "  'sws': 0.0},\n",
       " {'distance_to_goal': 5.0,\n",
       "  'normalized_distance_to_goal': 0.4166666666666667,\n",
       "  'success': 0.0,\n",
       "  'spl': 0.0,\n",
       "  'softspl': 0.5,\n",
       "  'na': 9,\n",
       "  'sna': 0.0,\n",
       "  'sws': 0.0},\n",
       " {'distance_to_goal': 4.0,\n",
       "  'normalized_distance_to_goal': 0.3333333333333333,\n",
       "  'success': 0.0,\n",
       "  'spl': 0.0,\n",
       "  'softspl': 0.6,\n",
       "  'na': 10,\n",
       "  'sna': 0.0,\n",
       "  'sws': 0.0},\n",
       " {'distance_to_goal': 4.0,\n",
       "  'normalized_distance_to_goal': 0.3333333333333333,\n",
       "  'success': 0.0,\n",
       "  'spl': 0.0,\n",
       "  'softspl': 0.6,\n",
       "  'na': 11,\n",
       "  'sna': 0.0,\n",
       "  'sws': 0.0},\n",
       " {'distance_to_goal': 3.0,\n",
       "  'normalized_distance_to_goal': 0.25,\n",
       "  'success': 0.0,\n",
       "  'spl': 0.0,\n",
       "  'softspl': 0.7,\n",
       "  'na': 12,\n",
       "  'sna': 0.0,\n",
       "  'sws': 0.0},\n",
       " {'distance_to_goal': 2.0,\n",
       "  'normalized_distance_to_goal': 0.16666666666666666,\n",
       "  'success': 0.0,\n",
       "  'spl': 0.0,\n",
       "  'softspl': 0.8,\n",
       "  'na': 13,\n",
       "  'sna': 0.0,\n",
       "  'sws': 0.0},\n",
       " {'distance_to_goal': 2.0,\n",
       "  'normalized_distance_to_goal': 0.16666666666666666,\n",
       "  'success': 0.0,\n",
       "  'spl': 0.0,\n",
       "  'softspl': 0.8,\n",
       "  'na': 14,\n",
       "  'sna': 0.0,\n",
       "  'sws': 0.0},\n",
       " {'distance_to_goal': 1.0,\n",
       "  'normalized_distance_to_goal': 0.08333333333333333,\n",
       "  'success': 0.0,\n",
       "  'spl': 0.0,\n",
       "  'softspl': 0.9,\n",
       "  'na': 15,\n",
       "  'sna': 0.0,\n",
       "  'sws': 0.0},\n",
       " {'distance_to_goal': 1.0,\n",
       "  'normalized_distance_to_goal': 0.08333333333333333,\n",
       "  'success': 0.0,\n",
       "  'spl': 0.0,\n",
       "  'softspl': 0.9,\n",
       "  'na': 16,\n",
       "  'sna': 0.0,\n",
       "  'sws': 0.0},\n",
       " {'distance_to_goal': 0.0,\n",
       "  'normalized_distance_to_goal': 0.0,\n",
       "  'success': 0.0,\n",
       "  'spl': 0.0,\n",
       "  'softspl': 1.0,\n",
       "  'na': 17,\n",
       "  'sna': 0.0,\n",
       "  'sws': 0.0},\n",
       " {'distance_to_goal': 0.0,\n",
       "  'normalized_distance_to_goal': 0.0,\n",
       "  'success': 0.0,\n",
       "  'spl': 0.0,\n",
       "  'softspl': 1.0,\n",
       "  'na': 18,\n",
       "  'sna': 0.0,\n",
       "  'sws': 0.0},\n",
       " {'distance_to_goal': 0.0,\n",
       "  'normalized_distance_to_goal': 0.0,\n",
       "  'success': 0.0,\n",
       "  'spl': 0.0,\n",
       "  'softspl': 0.9090909287949244,\n",
       "  'na': 19,\n",
       "  'sna': 0.0,\n",
       "  'sws': 0.0},\n",
       " {'distance_to_goal': 0.0,\n",
       "  'normalized_distance_to_goal': 0.0,\n",
       "  'success': 0.0,\n",
       "  'spl': 0.0,\n",
       "  'softspl': 0.9090909287949244,\n",
       "  'na': 20,\n",
       "  'sna': 0.0,\n",
       "  'sws': 0.0},\n",
       " {'distance_to_goal': 0.0,\n",
       "  'normalized_distance_to_goal': 0.0,\n",
       "  'success': 0.0,\n",
       "  'spl': 0.0,\n",
       "  'softspl': 0.8333333498901795,\n",
       "  'na': 21,\n",
       "  'sna': 0.0,\n",
       "  'sws': 0.0},\n",
       " {'distance_to_goal': 0.0,\n",
       "  'normalized_distance_to_goal': 0.0,\n",
       "  'success': 1.0,\n",
       "  'spl': 0.8333333498901795,\n",
       "  'softspl': 0.8333333498901795,\n",
       "  'na': 22,\n",
       "  'sna': 1.0,\n",
       "  'sws': 0.0}]"
      ]
     },
     "execution_count": 38,
     "metadata": {},
     "output_type": "execute_result"
    }
   ],
   "source": [
    "data['info']"
   ]
  },
  {
   "cell_type": "code",
   "execution_count": null,
   "id": "2201ffb2",
   "metadata": {},
   "outputs": [],
   "source": []
  }
 ],
 "metadata": {
  "kernelspec": {
   "display_name": "ss",
   "language": "python",
   "name": "python3"
  },
  "language_info": {
   "codemirror_mode": {
    "name": "ipython",
    "version": 3
   },
   "file_extension": ".py",
   "mimetype": "text/x-python",
   "name": "python",
   "nbconvert_exporter": "python",
   "pygments_lexer": "ipython3",
   "version": "3.9.18"
  }
 },
 "nbformat": 4,
 "nbformat_minor": 5
}
